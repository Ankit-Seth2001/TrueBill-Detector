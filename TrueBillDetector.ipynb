{
 "cells": [
  {
   "cell_type": "code",
   "execution_count": null,
   "id": "31d5162b-d980-4ef7-82ca-70e6acf01c47",
   "metadata": {},
   "outputs": [],
   "source": [
    "import streamlit as st\n",
    "import pandas as pd\n",
    "import pickle\n",
    "\n",
    "# Load the model\n",
    "with open(\"TrueBill.pickle\", \"rb\") as file:\n",
    "    model = pickle.load(file)\n",
    "\n",
    "# Streamlit app title\n",
    "st.title(\"Fake or Genuine Predictor\")\n",
    "\n",
    "# Input features\n",
    "st.header(\"Enter the features\")\n",
    "variance = st.number_input(\"Variance\", value=0.0)\n",
    "skewness = st.number_input(\"Skewness\", value=0.0)\n",
    "curtosis = st.number_input(\"Curtosis\", value=0.0)\n",
    "entropy = st.number_input(\"Entropy\", value=0.0)\n",
    "\n",
    "# Button to predict\n",
    "if st.button(\"Predict\"):\n",
    "    # Prepare the input data for prediction\n",
    "    input_data = pd.DataFrame([[variance, skewness, curtosis, entropy]], \n",
    "                               columns=[\"Variance\", \"Skewness\", \"Curtosis\", \"Entropy\"])\n",
    "    \n",
    "    # Make prediction\n",
    "    prediction = model.predict(input_data)\n",
    "    \n",
    "    # Display the result\n",
    "    if prediction[0] == 0:\n",
    "        st.success(\"The input is Fake.\")\n",
    "    else:\n",
    "        st.success(\"The input is Genuine.\")\n"
   ]
  }
 ],
 "metadata": {
  "kernelspec": {
   "display_name": "Python 3 (ipykernel)",
   "language": "python",
   "name": "python3"
  },
  "language_info": {
   "codemirror_mode": {
    "name": "ipython",
    "version": 3
   },
   "file_extension": ".py",
   "mimetype": "text/x-python",
   "name": "python",
   "nbconvert_exporter": "python",
   "pygments_lexer": "ipython3",
   "version": "3.12.4"
  }
 },
 "nbformat": 4,
 "nbformat_minor": 5
}
